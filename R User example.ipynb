{
 "cells": [
  {
   "cell_type": "code",
   "execution_count": 1,
   "metadata": {
    "collapsed": false
   },
   "outputs": [],
   "source": [
    "# Import polyglot library\n",
    "source('lib/hbgd.R')"
   ]
  },
  {
   "cell_type": "code",
   "execution_count": 2,
   "metadata": {
    "collapsed": false
   },
   "outputs": [
    {
     "data": {
      "text/html": [
       "<table>\n",
       "<thead><tr><th scope=col>lat</th><th scope=col>long</th><th scope=col>depth</th><th scope=col>mag</th><th scope=col>stations</th></tr></thead>\n",
       "<tbody>\n",
       "\t<tr><td>-20.42</td><td>181.62</td><td>562   </td><td>4.8   </td><td>41    </td></tr>\n",
       "\t<tr><td>-20.62</td><td>181.03</td><td>650   </td><td>4.2   </td><td>15    </td></tr>\n",
       "\t<tr><td>-26.00</td><td>184.10</td><td> 42   </td><td>5.4   </td><td>43    </td></tr>\n",
       "\t<tr><td>-17.97</td><td>181.66</td><td>626   </td><td>4.1   </td><td>19    </td></tr>\n",
       "\t<tr><td>-20.42</td><td>181.96</td><td>649   </td><td>4.0   </td><td>11    </td></tr>\n",
       "\t<tr><td>-19.68</td><td>184.31</td><td>195   </td><td>4.0   </td><td>12    </td></tr>\n",
       "</tbody>\n",
       "</table>\n"
      ],
      "text/latex": [
       "\\begin{tabular}{r|lllll}\n",
       " lat & long & depth & mag & stations\\\\\n",
       "\\hline\n",
       "\t -20.42 & 181.62 & 562    & 4.8    & 41    \\\\\n",
       "\t -20.62 & 181.03 & 650    & 4.2    & 15    \\\\\n",
       "\t -26.00 & 184.10 &  42    & 5.4    & 43    \\\\\n",
       "\t -17.97 & 181.66 & 626    & 4.1    & 19    \\\\\n",
       "\t -20.42 & 181.96 & 649    & 4.0    & 11    \\\\\n",
       "\t -19.68 & 184.31 & 195    & 4.0    & 12    \\\\\n",
       "\\end{tabular}\n"
      ],
      "text/plain": [
       "  lat    long   depth mag stations\n",
       "1 -20.42 181.62 562   4.8 41      \n",
       "2 -20.62 181.03 650   4.2 15      \n",
       "3 -26.00 184.10  42   5.4 43      \n",
       "4 -17.97 181.66 626   4.1 19      \n",
       "5 -20.42 181.96 649   4.0 11      \n",
       "6 -19.68 184.31 195   4.0 12      "
      ]
     },
     "metadata": {},
     "output_type": "display_data"
    }
   ],
   "source": [
    "# Get a data frame \n",
    "data <- quakes\n",
    "head(data)"
   ]
  },
  {
   "cell_type": "code",
   "execution_count": 3,
   "metadata": {
    "collapsed": false
   },
   "outputs": [
    {
     "data": {
      "text/html": [
       "<ol class=list-inline>\n",
       "\t<li><span style=white-space:pre-wrap>'               lat         long        depth          mag     stations'</span></li>\n",
       "\t<li><span style=white-space:pre-wrap>'count  1000.000000  1000.000000  1000.000000  1000.000000  1000.000000'</span></li>\n",
       "\t<li><span style=white-space:pre-wrap>'mean    -20.642750   179.462020   311.371000     4.620400    33.418000'</span></li>\n",
       "\t<li><span style=white-space:pre-wrap>'std       5.028791     6.069497   215.535498     0.402773    21.900386'</span></li>\n",
       "\t<li><span style=white-space:pre-wrap>'min     -38.590000   165.670000    40.000000     4.000000    10.000000'</span></li>\n",
       "\t<li><span style=white-space:pre-wrap>'25%     -23.470000   179.620000    99.000000     4.300000    18.000000'</span></li>\n",
       "\t<li><span style=white-space:pre-wrap>'50%     -20.300000   181.410000   247.000000     4.600000    27.000000'</span></li>\n",
       "\t<li><span style=white-space:pre-wrap>'75%     -17.637500   183.200000   543.000000     4.900000    42.000000'</span></li>\n",
       "\t<li><span style=white-space:pre-wrap>'max     -10.720000   188.130000   680.000000     6.400000   132.000000'</span></li>\n",
       "</ol>\n"
      ],
      "text/latex": [
       "\\begin{enumerate*}\n",
       "\\item '               lat         long        depth          mag     stations'\n",
       "\\item 'count  1000.000000  1000.000000  1000.000000  1000.000000  1000.000000'\n",
       "\\item 'mean    -20.642750   179.462020   311.371000     4.620400    33.418000'\n",
       "\\item 'std       5.028791     6.069497   215.535498     0.402773    21.900386'\n",
       "\\item 'min     -38.590000   165.670000    40.000000     4.000000    10.000000'\n",
       "\\item '25\\%     -23.470000   179.620000    99.000000     4.300000    18.000000'\n",
       "\\item '50\\%     -20.300000   181.410000   247.000000     4.600000    27.000000'\n",
       "\\item '75\\%     -17.637500   183.200000   543.000000     4.900000    42.000000'\n",
       "\\item 'max     -10.720000   188.130000   680.000000     6.400000   132.000000'\n",
       "\\end{enumerate*}\n"
      ],
      "text/markdown": [
       "1. <span style=white-space:pre-wrap>'               lat         long        depth          mag     stations'</span>\n",
       "2. <span style=white-space:pre-wrap>'count  1000.000000  1000.000000  1000.000000  1000.000000  1000.000000'</span>\n",
       "3. <span style=white-space:pre-wrap>'mean    -20.642750   179.462020   311.371000     4.620400    33.418000'</span>\n",
       "4. <span style=white-space:pre-wrap>'std       5.028791     6.069497   215.535498     0.402773    21.900386'</span>\n",
       "5. <span style=white-space:pre-wrap>'min     -38.590000   165.670000    40.000000     4.000000    10.000000'</span>\n",
       "6. <span style=white-space:pre-wrap>'25%     -23.470000   179.620000    99.000000     4.300000    18.000000'</span>\n",
       "7. <span style=white-space:pre-wrap>'50%     -20.300000   181.410000   247.000000     4.600000    27.000000'</span>\n",
       "8. <span style=white-space:pre-wrap>'75%     -17.637500   183.200000   543.000000     4.900000    42.000000'</span>\n",
       "9. <span style=white-space:pre-wrap>'max     -10.720000   188.130000   680.000000     6.400000   132.000000'</span>\n",
       "\n",
       "\n"
      ],
      "text/plain": [
       "[1] \"               lat         long        depth          mag     stations\"\n",
       "[2] \"count  1000.000000  1000.000000  1000.000000  1000.000000  1000.000000\"\n",
       "[3] \"mean    -20.642750   179.462020   311.371000     4.620400    33.418000\"\n",
       "[4] \"std       5.028791     6.069497   215.535498     0.402773    21.900386\"\n",
       "[5] \"min     -38.590000   165.670000    40.000000     4.000000    10.000000\"\n",
       "[6] \"25%     -23.470000   179.620000    99.000000     4.300000    18.000000\"\n",
       "[7] \"50%     -20.300000   181.410000   247.000000     4.600000    27.000000\"\n",
       "[8] \"75%     -17.637500   183.200000   543.000000     4.900000    42.000000\"\n",
       "[9] \"max     -10.720000   188.130000   680.000000     6.400000   132.000000\""
      ]
     },
     "metadata": {},
     "output_type": "display_data"
    }
   ],
   "source": [
    "# Run it through python function from polyglot library\n",
    "describe_df(data)"
   ]
  },
  {
   "cell_type": "markdown",
   "metadata": {},
   "source": [
    "Issues:\n",
    "- Currently problematic as only runs from this directory\n",
    "- Pass data back via feather"
   ]
  },
  {
   "cell_type": "code",
   "execution_count": null,
   "metadata": {
    "collapsed": true
   },
   "outputs": [],
   "source": []
  }
 ],
 "metadata": {
  "kernelspec": {
   "display_name": "R",
   "language": "R",
   "name": "ir"
  },
  "language_info": {
   "codemirror_mode": "r",
   "file_extension": ".r",
   "mimetype": "text/x-r-source",
   "name": "R",
   "pygments_lexer": "r",
   "version": "3.3.1"
  }
 },
 "nbformat": 4,
 "nbformat_minor": 1
}
