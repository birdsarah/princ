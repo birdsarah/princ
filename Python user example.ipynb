{
 "cells": [
  {
   "cell_type": "code",
   "execution_count": 1,
   "metadata": {
    "collapsed": false
   },
   "outputs": [],
   "source": [
    "# Import polyglot library\n",
    "import lib.hbgd as hbgd"
   ]
  },
  {
   "cell_type": "code",
   "execution_count": 2,
   "metadata": {
    "collapsed": false
   },
   "outputs": [
    {
     "data": {
      "text/html": [
       "<div>\n",
       "<table border=\"1\" class=\"dataframe\">\n",
       "  <thead>\n",
       "    <tr style=\"text-align: right;\">\n",
       "      <th></th>\n",
       "      <th>src</th>\n",
       "      <th>id</th>\n",
       "      <th>rec</th>\n",
       "      <th>nrec</th>\n",
       "      <th>age</th>\n",
       "      <th>sex</th>\n",
       "      <th>etn</th>\n",
       "      <th>ga</th>\n",
       "      <th>bw</th>\n",
       "      <th>hgt</th>\n",
       "      <th>wgt</th>\n",
       "      <th>hgt.z</th>\n",
       "    </tr>\n",
       "  </thead>\n",
       "  <tbody>\n",
       "    <tr>\n",
       "      <th>0</th>\n",
       "      <td>smocc</td>\n",
       "      <td>10001</td>\n",
       "      <td>1</td>\n",
       "      <td>10</td>\n",
       "      <td>0.0000</td>\n",
       "      <td>female</td>\n",
       "      <td>NL</td>\n",
       "      <td>40.0</td>\n",
       "      <td>3960.0</td>\n",
       "      <td>52.0</td>\n",
       "      <td>3.96</td>\n",
       "      <td>1.531</td>\n",
       "    </tr>\n",
       "    <tr>\n",
       "      <th>1</th>\n",
       "      <td>smocc</td>\n",
       "      <td>10001</td>\n",
       "      <td>2</td>\n",
       "      <td>10</td>\n",
       "      <td>0.0821</td>\n",
       "      <td>female</td>\n",
       "      <td>NL</td>\n",
       "      <td>40.0</td>\n",
       "      <td>3960.0</td>\n",
       "      <td>55.6</td>\n",
       "      <td>4.05</td>\n",
       "      <td>1.007</td>\n",
       "    </tr>\n",
       "    <tr>\n",
       "      <th>2</th>\n",
       "      <td>smocc</td>\n",
       "      <td>10001</td>\n",
       "      <td>3</td>\n",
       "      <td>10</td>\n",
       "      <td>0.1588</td>\n",
       "      <td>female</td>\n",
       "      <td>NL</td>\n",
       "      <td>40.0</td>\n",
       "      <td>3960.0</td>\n",
       "      <td>58.2</td>\n",
       "      <td>4.56</td>\n",
       "      <td>0.700</td>\n",
       "    </tr>\n",
       "    <tr>\n",
       "      <th>3</th>\n",
       "      <td>smocc</td>\n",
       "      <td>10001</td>\n",
       "      <td>4</td>\n",
       "      <td>10</td>\n",
       "      <td>0.2546</td>\n",
       "      <td>female</td>\n",
       "      <td>NL</td>\n",
       "      <td>40.0</td>\n",
       "      <td>3960.0</td>\n",
       "      <td>61.2</td>\n",
       "      <td>5.09</td>\n",
       "      <td>0.598</td>\n",
       "    </tr>\n",
       "    <tr>\n",
       "      <th>4</th>\n",
       "      <td>smocc</td>\n",
       "      <td>10001</td>\n",
       "      <td>5</td>\n",
       "      <td>10</td>\n",
       "      <td>0.5038</td>\n",
       "      <td>female</td>\n",
       "      <td>NL</td>\n",
       "      <td>40.0</td>\n",
       "      <td>3960.0</td>\n",
       "      <td>67.2</td>\n",
       "      <td>6.81</td>\n",
       "      <td>0.615</td>\n",
       "    </tr>\n",
       "  </tbody>\n",
       "</table>\n",
       "</div>"
      ],
      "text/plain": [
       "     src     id  rec  nrec     age     sex etn    ga      bw   hgt   wgt  \\\n",
       "0  smocc  10001    1    10  0.0000  female  NL  40.0  3960.0  52.0  3.96   \n",
       "1  smocc  10001    2    10  0.0821  female  NL  40.0  3960.0  55.6  4.05   \n",
       "2  smocc  10001    3    10  0.1588  female  NL  40.0  3960.0  58.2  4.56   \n",
       "3  smocc  10001    4    10  0.2546  female  NL  40.0  3960.0  61.2  5.09   \n",
       "4  smocc  10001    5    10  0.5038  female  NL  40.0  3960.0  67.2  6.81   \n",
       "\n",
       "   hgt.z  \n",
       "0  1.531  \n",
       "1  1.007  \n",
       "2  0.700  \n",
       "3  0.598  \n",
       "4  0.615  "
      ]
     },
     "execution_count": 2,
     "metadata": {},
     "output_type": "execute_result"
    }
   ],
   "source": [
    "# Import pandas and make a dataframe\n",
    "import pandas as pd\n",
    "df = pd.read_csv('brokenstick-hgtwgt.csv')\n",
    "df.head()"
   ]
  },
  {
   "cell_type": "code",
   "execution_count": 3,
   "metadata": {
    "collapsed": false
   },
   "outputs": [
    {
     "data": {
      "text/plain": [
       "''"
      ]
     },
     "execution_count": 3,
     "metadata": {},
     "output_type": "execute_result"
    }
   ],
   "source": [
    "# Run it through HBGD R check_data function (via polyglot API)\n",
    "hbgd.check_data(df)"
   ]
  },
  {
   "cell_type": "markdown",
   "metadata": {},
   "source": [
    "Issues:\n",
    "- Output is shown on stdout but is not coming here\n",
    "- Pass data back via feather"
   ]
  },
  {
   "cell_type": "code",
   "execution_count": null,
   "metadata": {
    "collapsed": true
   },
   "outputs": [],
   "source": []
  }
 ],
 "metadata": {
  "kernelspec": {
   "display_name": "Python 3",
   "language": "python",
   "name": "python3"
  },
  "language_info": {
   "codemirror_mode": {
    "name": "ipython",
    "version": 3
   },
   "file_extension": ".py",
   "mimetype": "text/x-python",
   "name": "python",
   "nbconvert_exporter": "python",
   "pygments_lexer": "ipython3",
   "version": "3.5.2"
  }
 },
 "nbformat": 4,
 "nbformat_minor": 1
}
